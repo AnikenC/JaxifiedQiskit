{
 "cells": [
  {
   "cell_type": "code",
   "execution_count": 1,
   "metadata": {},
   "outputs": [],
   "source": [
    "from library.utils import PauliToQuditOperator\n",
    "import numpy as np"
   ]
  },
  {
   "cell_type": "code",
   "execution_count": 10,
   "metadata": {},
   "outputs": [
    {
     "name": "stdout",
     "output_type": "stream",
     "text": [
      "(625, 625)\n",
      "(625, 625)\n",
      "5\n",
      "True\n"
     ]
    }
   ],
   "source": [
    "input_str = \"ZXXY\"\n",
    "\n",
    "op = PauliToQuditOperator(input_str, qudit_dim_size=5)\n",
    "\n",
    "test = op @ op.conj().T\n",
    "print(op.shape)\n",
    "print(test.shape)\n",
    "test = np.array(test)\n",
    "id_matrix = np.eye(len(op), dtype=np.complex64)\n",
    "\n",
    "vector_size = len(op)\n",
    "num_qubits = len(input_str)\n",
    "num_levels = vector_size ** (1/num_qubits)\n",
    "print(int(num_levels))\n",
    "\n",
    "print(np.all(test==id_matrix))"
   ]
  },
  {
   "cell_type": "code",
   "execution_count": null,
   "metadata": {},
   "outputs": [],
   "source": []
  }
 ],
 "metadata": {
  "kernelspec": {
   "display_name": "pret_env",
   "language": "python",
   "name": "python3"
  },
  "language_info": {
   "codemirror_mode": {
    "name": "ipython",
    "version": 3
   },
   "file_extension": ".py",
   "mimetype": "text/x-python",
   "name": "python",
   "nbconvert_exporter": "python",
   "pygments_lexer": "ipython3",
   "version": "3.9.11"
  },
  "orig_nbformat": 4
 },
 "nbformat": 4,
 "nbformat_minor": 2
}
