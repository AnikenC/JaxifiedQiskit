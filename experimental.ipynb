{
 "cells": [
  {
   "attachments": {},
   "cell_type": "markdown",
   "metadata": {},
   "source": [
    "## Experimental Business\n",
    "\n",
    "Here we demonstrate the Two Qudit Hamiltonian Class (to easily construct hamiltonians), along with the custom schedule\n",
    "function construction, and finally the JaxedSolver allowing us to estimate the simulated state vectors in the desired basis."
   ]
  },
  {
   "cell_type": "code",
   "execution_count": 38,
   "metadata": {},
   "outputs": [],
   "source": [
    "# All Imports\n",
    "\n",
    "import numpy as np\n",
    "\n",
    "import jax\n",
    "import jax.numpy as jnp\n",
    "from jax.numpy.linalg import norm\n",
    "\n",
    "import qiskit.pulse as pulse\n",
    "from qiskit_dynamics.array import Array\n",
    "\n",
    "from library.utils import PauliToQuditOperator, TwoQuditHamiltonian\n",
    "from library.new_sims import JaxedSolver\n",
    "\n",
    "Array.set_default_backend('jax')\n",
    "jax.config.update('jax_enable_x64', True)\n",
    "jax.config.update('jax_platform_name', 'cpu')"
   ]
  },
  {
   "cell_type": "code",
   "execution_count": 15,
   "metadata": {},
   "outputs": [],
   "source": [
    "# Testing out the TwoQuditBackend Functionality\n",
    "\n",
    "dt = 1/4.5e9\n",
    "atol = 1e-2\n",
    "rtol = 1e-4\n",
    "\n",
    "batchsize = 400\n",
    "\n",
    "t_linspace = np.linspace(0.0, 400e-9, 11)\n",
    "t_span = np.array([t_linspace[0], t_linspace[-1]])\n",
    "\n",
    "qudit_dim = 3\n",
    "\n",
    "q_end = TwoQuditHamiltonian(\n",
    "    qudit_dim=qudit_dim,\n",
    "    dt=dt\n",
    ")\n",
    "\n",
    "solver = q_end.solver\n",
    "ham_ops = q_end.ham_ops\n",
    "ham_chans = q_end.ham_chans\n",
    "chan_freqs = q_end.chan_freqs"
   ]
  },
  {
   "cell_type": "code",
   "execution_count": 34,
   "metadata": {},
   "outputs": [
    {
     "name": "stdout",
     "output_type": "stream",
     "text": [
      "initial statevec: [0.33333333+0.j 0.33333333+0.j 0.33333333+0.j 0.33333333+0.j\n",
      " 0.33333333+0.j 0.33333333+0.j 0.33333333+0.j 0.33333333+0.j\n",
      " 0.33333333+0.j]\n",
      "statevector * hc: (1.0000000000000002+0j)\n"
     ]
    }
   ],
   "source": [
    "# Make the Custom Schedule Construction Function\n",
    "\n",
    "amp_vals = jnp.linspace(0.5, 0.99, batchsize, dtype=jnp.float64).reshape(-1, 1)\n",
    "sigma_vals = jnp.linspace(20, 80, batchsize, dtype=jnp.int8).reshape(-1, 1)\n",
    "freq_vals = jnp.linspace(-0.5, 0.5, batchsize, dtype=jnp.float64).reshape(-1, 1) * 1e6\n",
    "batch_params = jnp.concatenate((amp_vals, sigma_vals, freq_vals), axis=-1)\n",
    "\n",
    "init_y0 = jnp.ones(qudit_dim ** 2, dtype=jnp.complex128)\n",
    "init_y0 /= norm(init_y0)\n",
    "batch_y0 = jnp.tile(init_y0, (batchsize, 1))\n",
    "\n",
    "batch_str = [\"XX\", \"IX\", \"YZ\", \"ZY\"] * 100\n",
    "\n",
    "print(f\"initial statevec: {init_y0}\")\n",
    "print(f\"statevector * hc: {init_y0 @ init_y0.conj().T}\")\n",
    "\n",
    "def standard_func(params):\n",
    "    amp, sigma, freq = params\n",
    "\n",
    "    # Here we use a Drag Pulse as defined in qiskit pulse as its already a Scalable Symbolic Pulse\n",
    "    special_pulse = pulse.Drag(\n",
    "        duration=320,\n",
    "        amp=amp,\n",
    "        sigma=sigma,\n",
    "        beta=0.1,\n",
    "        angle=0.1,\n",
    "        limit_amplitude=False\n",
    "    )\n",
    "\n",
    "    with pulse.build(default_alignment='sequential') as sched:\n",
    "        d0 = pulse.DriveChannel(0)\n",
    "        d1 = pulse.DriveChannel(1)\n",
    "        u0 = pulse.ControlChannel(0)\n",
    "        u1 = pulse.ControlChannel(1)\n",
    "\n",
    "        pulse.shift_frequency(freq, d0)\n",
    "        pulse.play(special_pulse, d0)\n",
    "\n",
    "        pulse.shift_frequency(freq, d1)\n",
    "        pulse.play(special_pulse, d1)\n",
    "\n",
    "        pulse.shift_frequency(freq, u0)\n",
    "        pulse.play(special_pulse, u0)\n",
    "\n",
    "        pulse.shift_frequency(freq, u1)\n",
    "        pulse.play(special_pulse, u1)\n",
    "    \n",
    "    return sched"
   ]
  },
  {
   "cell_type": "code",
   "execution_count": 35,
   "metadata": {},
   "outputs": [],
   "source": [
    "# Make the JaxedSolver backend\n",
    "\n",
    "j_solver = JaxedSolver(\n",
    "    schedule_func=standard_func,\n",
    "    solver=solver,\n",
    "    dt=dt,\n",
    "    carrier_freqs=chan_freqs,\n",
    "    ham_chans=ham_chans,\n",
    "    ham_ops=ham_ops,\n",
    "    t_span=t_span,\n",
    "    rtol=rtol,\n",
    "    atol=atol\n",
    ")"
   ]
  },
  {
   "cell_type": "code",
   "execution_count": 37,
   "metadata": {},
   "outputs": [
    {
     "name": "stdout",
     "output_type": "stream",
     "text": [
      "(400, 9)\n",
      "7.46 s ± 756 ms per loop (mean ± std. dev. of 7 runs, 1 loop each)\n"
     ]
    }
   ],
   "source": [
    "j_solver.estimate2(batch_y0=batch_y0, batch_params=batch_params, batch_obs_str=batch_str)\n",
    "\n",
    "%timeit j_solver.estimate2(batch_y0=batch_y0, batch_params=batch_params, batch_obs_str=batch_str)"
   ]
  },
  {
   "attachments": {},
   "cell_type": "markdown",
   "metadata": {},
   "source": [
    "## Workflow\n",
    "\n",
    "1. Use the TwoQudit Hamiltonian to make the Hamiltonian and corresponding Solver\n",
    "2. Make a custom ScheduleFunc that will construct the appropriate Schedule\n",
    "3. Use the JaxedSolver to take as input the standard TwoQudit solver, and the schedule func, and output the\n",
    "    appropriate estimator results"
   ]
  }
 ],
 "metadata": {
  "kernelspec": {
   "display_name": "pret_env",
   "language": "python",
   "name": "python3"
  },
  "language_info": {
   "codemirror_mode": {
    "name": "ipython",
    "version": 3
   },
   "file_extension": ".py",
   "mimetype": "text/x-python",
   "name": "python",
   "nbconvert_exporter": "python",
   "pygments_lexer": "ipython3",
   "version": "3.9.11"
  },
  "orig_nbformat": 4
 },
 "nbformat": 4,
 "nbformat_minor": 2
}
