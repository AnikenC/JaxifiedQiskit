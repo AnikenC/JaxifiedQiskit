{
 "cells": [
  {
   "attachments": {},
   "cell_type": "markdown",
   "metadata": {},
   "source": [
    "## Estimating Everything\n",
    "\n",
    "Here we aim to construct the necessary functions of Estimator with our JaxedSolver. The workflow will follow the form:\n",
    "1. Construct a JaxedSolver (within DynamicsBackend) which takes as input a ScheduleFunc upon construction to have a custom parametrized circuit ready to simulate.\n",
    "2. The Estimator now can take as input\n",
    "    * Batch of Parameters\n",
    "    * Single Linear Observable\n",
    "    * Single Input State\n",
    "and these in conjunction define the y0, measurement basis, and parameters for a batch of circuits to simulate\n",
    "3. The Linear Observable will consist of several individual observables, ie the Observable is a Hamiltonian itself, so we need to separate the Linear Observable to its individual substituents such that we have the necessary circuits to simulate\n",
    "4. If some of the Observables are equivalent (abelian grouping) then the number of experiments to simulate can be reduced (though in our case it might mess up with shapes)\n",
    "5. Based on the observable an input should be sent to the DynamicsBackend, passed on to the solver, simulated by the solver, then the results are passed back in the appropriate format\n",
    "6. Estimator can work as normal and output the desired values!\n",
    "\n",
    "Overall places of modification are: new DynamicsEstimator, DynamicsBackend -> DynamicsBackend, new JaxedSolver"
   ]
  },
  {
   "cell_type": "code",
   "execution_count": 1,
   "metadata": {},
   "outputs": [
    {
     "name": "stderr",
     "output_type": "stream",
     "text": [
      "/var/folders/g4/_yhz0jm50s17zz2ms7wwytcr0000gr/T/ipykernel_55495/3722814237.py:11: DeprecationWarning: The qiskit.IBMQ entrypoint and the qiskit-ibmq-provider package (accessible from 'qiskit.providers.ibmq`) are deprecated and will be removed in a future release. Instead you should use the qiskit-ibm-provider package which is accessible from 'qiskit_ibm_provider'. You can install it with 'pip install qiskit_ibm_provider'. Just replace 'qiskit.IBMQ' with 'qiskit_ibm_provider.IBMProvider'\n",
      "  IBMQ.load_account()\n"
     ]
    },
    {
     "data": {
      "text/plain": [
       "<AccountProvider for IBMQ(hub='ibm-q', group='open', project='main')>"
      ]
     },
     "execution_count": 1,
     "metadata": {},
     "output_type": "execute_result"
    }
   ],
   "source": [
    "import numpy as np\n",
    "import matplotlib.pyplot as plt\n",
    "%matplotlib inline\n",
    "\n",
    "from typing import Optional, Union\n",
    "\n",
    "import qiskit\n",
    "from qiskit import IBMQ, pulse\n",
    "from library.dynamics_backend_estimator import DynamicsBackendEstimator\n",
    "\n",
    "IBMQ.load_account()"
   ]
  },
  {
   "cell_type": "code",
   "execution_count": 2,
   "metadata": {},
   "outputs": [],
   "source": [
    "provider = IBMQ.get_provider(hub='ibm-q-nus', group='default', project='default')\n",
    "backend = provider.get_backend('ibm_cairo')\n",
    "\n",
    "estimator = DynamicsBackendEstimator(backend)"
   ]
  },
  {
   "cell_type": "code",
   "execution_count": null,
   "metadata": {},
   "outputs": [],
   "source": []
  }
 ],
 "metadata": {
  "kernelspec": {
   "display_name": "pret_env",
   "language": "python",
   "name": "python3"
  },
  "language_info": {
   "codemirror_mode": {
    "name": "ipython",
    "version": 3
   },
   "file_extension": ".py",
   "mimetype": "text/x-python",
   "name": "python",
   "nbconvert_exporter": "python",
   "pygments_lexer": "ipython3",
   "version": "3.9.11"
  },
  "orig_nbformat": 4
 },
 "nbformat": 4,
 "nbformat_minor": 2
}
