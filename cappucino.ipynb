{
 "cells": [
  {
   "attachments": {},
   "cell_type": "markdown",
   "metadata": {},
   "source": [
    "# Incorporating Custom Input States and Arbitrary Operator Evolutions on Statevectors"
   ]
  },
  {
   "cell_type": "code",
   "execution_count": 1,
   "metadata": {},
   "outputs": [],
   "source": [
    "# All Imports\n",
    "\n",
    "import numpy as np\n",
    "import matplotlib.pyplot as plt\n",
    "import sympy as sym\n",
    "\n",
    "import qiskit\n",
    "from qiskit import pulse\n",
    "\n",
    "from qiskit_dynamics import Solver, DynamicsBackend\n",
    "from qiskit_dynamics.pulse import InstructionToSignals\n",
    "from qiskit_dynamics.array import Array\n",
    "\n",
    "from qiskit.quantum_info import Statevector, DensityMatrix, Operator\n",
    "from qiskit.circuit.parameter import Parameter\n",
    "\n",
    "import jax\n",
    "import jax.numpy as jnp\n",
    "from jax import jit, vmap, block_until_ready, config\n",
    "\n",
    "import chex\n",
    "\n",
    "from typing import Optional, Union\n",
    "\n",
    "Array.set_default_backend('jax')\n",
    "config.update('jax_enable_x64', True)\n",
    "config.update('jax_platform_name', 'cpu')"
   ]
  },
  {
   "cell_type": "code",
   "execution_count": null,
   "metadata": {},
   "outputs": [],
   "source": []
  }
 ],
 "metadata": {
  "kernelspec": {
   "display_name": "q_env",
   "language": "python",
   "name": "python3"
  },
  "language_info": {
   "codemirror_mode": {
    "name": "ipython",
    "version": 3
   },
   "file_extension": ".py",
   "mimetype": "text/x-python",
   "name": "python",
   "nbconvert_exporter": "python",
   "pygments_lexer": "ipython3",
   "version": "3.9.11"
  },
  "orig_nbformat": 4
 },
 "nbformat": 4,
 "nbformat_minor": 2
}
